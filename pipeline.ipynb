{
 "cells": [
  {
   "cell_type": "code",
   "execution_count": null,
   "metadata": {},
   "outputs": [],
   "source": [
    "import pandas as pd\n",
    "import numpy as np\n",
    "import scipy.signal"
   ]
  },
  {
   "cell_type": "code",
   "execution_count": null,
   "metadata": {},
   "outputs": [],
   "source": [
    "data = pd.read_csv('data/gip_A00054817001.csv')\n",
    "data.tail()"
   ]
  },
  {
   "cell_type": "code",
   "execution_count": null,
   "metadata": {},
   "outputs": [],
   "source": [
    "events = pd.read_csv('data/gip_A00054817001_events.csv')\n",
    "events"
   ]
  },
  {
   "cell_type": "code",
   "execution_count": null,
   "metadata": {},
   "outputs": [],
   "source": [
    "# The first 20 mark is at latency 31225\n",
    "data.columns[31225]"
   ]
  },
  {
   "cell_type": "code",
   "execution_count": null,
   "metadata": {},
   "outputs": [],
   "source": [
    "events['type'] = events['type'].astype('string')\n",
    "event_lt = list(events['latency'].loc[events['type'] == '20  '].astype('int'))\n",
    "\n",
    "event_lt"
   ]
  },
  {
   "cell_type": "code",
   "execution_count": null,
   "metadata": {},
   "outputs": [],
   "source": [
    "eyes_open = []\n",
    "\n",
    "for latency in event_lt:\n",
    "    try:\n",
    "        chunk = data.loc[: ,data.columns[latency]:data.columns[latency + 10000]]\n",
    "    except:\n",
    "        chunk = data.loc[: ,data.columns[latency]:]\n",
    "    eyes_open.append(chunk)"
   ]
  },
  {
   "cell_type": "code",
   "execution_count": null,
   "metadata": {},
   "outputs": [],
   "source": [
    "i = 1\n",
    "chunk_list = []\n",
    "\n",
    "# Ask George about the equivalent parameter for 2 sec window next meeting\n",
    "window_size_seconds = 2\n",
    "window_size_miliseconds = window_size_seconds * 1000\n",
    "\n",
    "# Going through each chunk in eyes open\n",
    "for chunk in eyes_open:\n",
    "    # Selecting each channel from the chunk\n",
    "    for channel in range(len(chunk)):\n",
    "        sub_ch = chunk.iloc[channel, :].to_numpy(dtype='float')\n",
    "        # Feeding the single channel/row of the chunk through pwelch function to return f, pxx\n",
    "        f, pxx = scipy.signal.welch(sub_ch, fs = 500, nperseg = window_size_miliseconds)\n",
    "        chunk_list.append((i, f, pxx))\n",
    "    i += 1\n",
    "\n",
    "\n",
    "chunk_list    "
   ]
  },
  {
   "cell_type": "code",
   "execution_count": null,
   "metadata": {
    "scrolled": true
   },
   "outputs": [],
   "source": [
    "chunk_df = pd.DataFrame(chunk_list, columns=['chunk', 'f', 'pxx'])\n",
    "chunk_df.loc[chunk_df['chunk'] ==  2]"
   ]
  },
  {
   "cell_type": "code",
   "execution_count": null,
   "metadata": {},
   "outputs": [],
   "source": [
    "len(chunk_df.loc[chunk_df['chunk'] == 2]['pxx'].iloc[0])"
   ]
  },
  {
   "cell_type": "code",
   "execution_count": null,
   "metadata": {},
   "outputs": [],
   "source": [
    "average_pxx = []\n",
    "for channel in range(len(chunk_df.loc[chunk_df['chunk'] == 1]['pxx'])):\n",
    "    channel_avg_pxx = []\n",
    "    for pxx_idx in range(len(chunk_df.loc[chunk_df['chunk'] == 1]['pxx'].iloc[0])):\n",
    "        chunk1 = chunk_df.loc[chunk_df['chunk'] == 1]['pxx'].iloc[channel][pxx_idx]\n",
    "        chunk2 = chunk_df.loc[chunk_df['chunk'] == 2]['pxx'].iloc[channel][pxx_idx]\n",
    "        chunk3 = chunk_df.loc[chunk_df['chunk'] == 3]['pxx'].iloc[channel][pxx_idx]\n",
    "        chunk4 = chunk_df.loc[chunk_df['chunk'] == 4]['pxx'].iloc[channel][pxx_idx]\n",
    "        channel_total_per_timestep = chunk1 + chunk2 + chunk3 + chunk4 + chunk5\n",
    "        average_per_channel_timestep = channel_total_per_timestep / 5\n",
    "        \n",
    "        channel_avg_pxx.append(average_per_channel_timestep)\n",
    "    print(channel_avg_pxx)\n",
    "    average_pxx.append(channel_avg_pxx)"
   ]
  },
  {
   "cell_type": "code",
   "execution_count": null,
   "metadata": {},
   "outputs": [],
   "source": [
    "len(average_pxx)"
   ]
  },
  {
   "cell_type": "code",
   "execution_count": null,
   "metadata": {},
   "outputs": [],
   "source": [
    "import matplotlib.pyplot as plt"
   ]
  },
  {
   "cell_type": "code",
   "execution_count": null,
   "metadata": {},
   "outputs": [],
   "source": [
    "f = chunk_df.loc[chunk_df['chunk'] ==  1]['f'][0]"
   ]
  },
  {
   "cell_type": "code",
   "execution_count": null,
   "metadata": {},
   "outputs": [],
   "source": [
    "from fooof import FOOOF\n",
    "from fooof.sim.gen import gen_power_spectrum\n",
    "from fooof.sim.utils import set_random_seed\n",
    "from fooof.plts.spectra import plot_spectrum\n",
    "from fooof.plts.annotate import plot_annotated_model"
   ]
  },
  {
   "cell_type": "code",
   "execution_count": null,
   "metadata": {},
   "outputs": [],
   "source": [
    "fm1 = FOOOF(min_peak_height=0.05, verbose=False)\n",
    "powers1 = np.array(average_pxx[0])\n",
    "plot_spectrum(f, powers1, log_powers=True,\n",
    "              color='black', label='Original Spectrum')\n",
    "fm1.fit(f, powers1)\n",
    "fm1.plot(plot_peaks='shade', peak_kwargs={'color' : 'green'})\n"
   ]
  }
 ],
 "metadata": {
  "kernelspec": {
   "display_name": "Python 3",
   "language": "python",
   "name": "python3"
  },
  "language_info": {
   "codemirror_mode": {
    "name": "ipython",
    "version": 3
   },
   "file_extension": ".py",
   "mimetype": "text/x-python",
   "name": "python",
   "nbconvert_exporter": "python",
   "pygments_lexer": "ipython3",
   "version": "3.7.6"
  }
 },
 "nbformat": 4,
 "nbformat_minor": 4
}
